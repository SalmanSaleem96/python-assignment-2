{
 "cells": [
  {
   "cell_type": "markdown",
   "metadata": {},
   "source": [
    "# Assignment # 2"
   ]
  },
  {
   "cell_type": "code",
   "execution_count": null,
   "metadata": {},
   "outputs": [],
   "source": [
    "1: \n",
    "sub1=int(input(\"Enter marks of the first subject: \"))\n",
    "sub2=int(input(\"Enter marks of the second subject: \"))\n",
    "sub3=int(input(\"Enter marks of the third subject: \"))\n",
    "sub4=int(input(\"Enter marks of the fourth subject: \"))\n",
    "sub5=int(input(\"Enter marks of the fifth subject: \"))\n",
    "total = sub1+sub2+sub3+sub4+sub5\n",
    "print (\"Total marks =  \" , total)\n",
    "per=(sub1+sub2+sub3+sub4+sub4)/5\n",
    "if per >= 80 and per <= 100:\n",
    " print(\"A+\")\n",
    "elif per >= 70 and per<80:\n",
    " print(\"A\")\n",
    "elif per>=60 and per < 70:\n",
    " print(\"B\")\n",
    "elif per>=50 and per < 60:\n",
    " print(\"C\")\n",
    "elif per>=33 and per < 49:\n",
    " print(\"D\")\n",
    "elif per>=0 and per < 60:\n",
    " print(\"Fail\")"
   ]
  },
  {
   "cell_type": "code",
   "execution_count": null,
   "metadata": {},
   "outputs": [],
   "source": [
    "2:\n",
    "number = int(input(\"Enter the number:\"))\n",
    "mod = number % 2\n",
    "if mod > 0:\n",
    "    print(\"The given number is odd\")\n",
    "else:\n",
    "    print(\"The given number is even\")"
   ]
  },
  {
   "cell_type": "code",
   "execution_count": null,
   "metadata": {},
   "outputs": [],
   "source": [
    "3:\n",
    "list = [10,20,30,50,60,40]\n",
    "print (\"The length of list is: \", len(list))"
   ]
  },
  {
   "cell_type": "code",
   "execution_count": null,
   "metadata": {},
   "outputs": [],
   "source": [
    "4:\n",
    "list = [10,20,30,50,60,40]\n",
    "total = sum(list)\n",
    "print(\"Sum of all elements of list is: \", total)"
   ]
  },
  {
   "cell_type": "code",
   "execution_count": null,
   "metadata": {},
   "outputs": [],
   "source": [
    "5:\n",
    "\n",
    "list = [10,20,30,50,60,40]\n",
    "maximum = max(list)\n",
    "print(\"The larger element of list is:\", maximum)"
   ]
  },
  {
   "cell_type": "code",
   "execution_count": null,
   "metadata": {},
   "outputs": [],
   "source": [
    "6:\n",
    "a = [1, 1, 2, 3, 5, 8, 13, 21, 34, 55, 89]\n",
    "num = 5\n",
    "print (\"Elements < 5 are: \")\n",
    "for i in a:\n",
    "    if i<5:\n",
    "        print (i)"
   ]
  }
 ],
 "metadata": {
  "kernelspec": {
   "display_name": "Python 3",
   "language": "python",
   "name": "python3"
  },
  "language_info": {
   "codemirror_mode": {
    "name": "ipython",
    "version": 3
   },
   "file_extension": ".py",
   "mimetype": "text/x-python",
   "name": "python",
   "nbconvert_exporter": "python",
   "pygments_lexer": "ipython3",
   "version": "3.7.3"
  }
 },
 "nbformat": 4,
 "nbformat_minor": 2
}
